{
 "cells": [
  {
   "cell_type": "code",
   "execution_count": 1,
   "id": "b72dd9b0",
   "metadata": {},
   "outputs": [],
   "source": [
    "import numpy as np\n",
    "import pandas as pd\n",
    "\n",
    "import matplotlib.pyplot as plt\n",
    "%matplotlib inline"
   ]
  },
  {
   "cell_type": "code",
   "execution_count": 7,
   "id": "947085a7",
   "metadata": {},
   "outputs": [],
   "source": [
    "auseir = pd.read_csv('data/ausair.csv', index_col=0)"
   ]
  },
  {
   "cell_type": "code",
   "execution_count": null,
   "id": "4f7b5575",
   "metadata": {},
   "outputs": [],
   "source": [
    "def HoltLinearTrend(vals, alpha, beta, h):\n",
    "    forecast = [vals[0]]\n",
    "    level = vals[0]\n",
    "    trend = vals[1] - vals[0]\n",
    "\n",
    "    for t in range(1, len(vals) + h):\n",
    "        forecast.append(level + trend)\n",
    "\n",
    "        if t < len(vals):\n",
    "            value = vals[t]\n",
    "        else:\n",
    "            value = forecast[-1]\n",
    "\n",
    "        pred_level = level\n",
    "        pred_trend = trend\n",
    "        level = alpha * value + (1 - alpha) * (pred_level + pred_trend)\n",
    "        trend = beta * (level - pred_level) + (1 - beta) *  pred_trend\n",
    "        \n",
    "    return forecast"
   ]
  },
  {
   "cell_type": "code",
   "execution_count": 4,
   "id": "22da97bc",
   "metadata": {},
   "outputs": [],
   "source": [
    "vals = auseir['Passengers'].values\n",
    "alpha = 0.59\n",
    "beta = 0.43\n",
    "h = 10\n",
    "forecast = HoltLinearTrend(vals, alpha, beta, h)"
   ]
  },
  {
   "cell_type": "code",
   "execution_count": 5,
   "id": "f3d79f62",
   "metadata": {},
   "outputs": [
    {
     "data": {
      "text/plain": [
       "[<matplotlib.lines.Line2D at 0x2a83758bf70>]"
      ]
     },
     "execution_count": 5,
     "metadata": {},
     "output_type": "execute_result"
    },
    {
     "data": {
      "image/png": "[encoded data removed]",
      "text/plain": [
       "<Figure size 432x288 with 1 Axes>"
      ]
     },
     "metadata": {
      "needs_background": "light"
     },
     "output_type": "display_data"
    }
   ],
   "source": [
    "plt.plot(vals)\n",
    "plt.plot(forecast)"
   ]
  },
  {
   "cell_type": "code",
   "execution_count": 6,
   "id": "300d9711",
   "metadata": {},
   "outputs": [],
   "source": [
    "def AdditiveDecayingTrend(vals, alpha, beta, h, phi):\n",
    "    forecast = [vals[0], vals[0]]\n",
    "    level = vals[0]\n",
    "    trend = vals[1] - vals[0]\n",
    "\n",
    "    for t in range(1, len(vals) + h):\n",
    "        if t < len(vals):\n",
    "            value = vals[t]\n",
    "        else:\n",
    "            value = forecast[-1]\n",
    "        \n",
    "        pred_level = level\n",
    "        level = alpha * value + (1 - alpha) * (pred_level + phi * trend)\n",
    "        trend = beta * (level - pred_level) + (1 - beta) * phi *  trend\n",
    "        \n",
    "        forecast.append(level + phi * trend)\n",
    "        \n",
    "    return forecast"
   ]
  },
  {
   "cell_type": "code",
   "execution_count": 7,
   "id": "21d41db3",
   "metadata": {},
   "outputs": [],
   "source": [
    "vals = auseir['Passengers'].values\n",
    "alpha = 0.39\n",
    "beta = 0.1\n",
    "phi = 0.9\n",
    "h = 10\n",
    "forecast = AdditiveDecayingTrend(vals, alpha, beta, h, phi)"
   ]
  },
  {
   "cell_type": "code",
   "execution_count": 8,
   "id": "0b3de52f",
   "metadata": {},
   "outputs": [
    {
     "data": {
      "text/plain": [
       "[<matplotlib.lines.Line2D at 0x2a83769f580>]"
      ]
     },
     "execution_count": 8,
     "metadata": {},
     "output_type": "execute_result"
    },
    {
     "data": {
      "image/png": "[encoded data removed]",
      "text/plain": [
       "<Figure size 432x288 with 1 Axes>"
      ]
     },
     "metadata": {
      "needs_background": "light"
     },
     "output_type": "display_data"
    }
   ],
   "source": [
    "plt.plot(vals)\n",
    "plt.plot(forecast)"
   ]
  },
  {
   "cell_type": "code",
   "execution_count": null,
   "id": "acd25d26",
   "metadata": {},
   "outputs": [],
   "source": []
  }
 ],
 "metadata": {
  "kernelspec": {
   "display_name": "Python 3 (ipykernel)",
   "language": "python",
   "name": "python3"
  },
  "language_info": {
   "codemirror_mode": {
    "name": "ipython",
    "version": 3
   },
   "file_extension": ".py",
   "mimetype": "text/x-python",
   "name": "python",
   "nbconvert_exporter": "python",
   "pygments_lexer": "ipython3",
   "version": "3.10.2"
  }
 },
 "nbformat": 4,
 "nbformat_minor": 5
}
