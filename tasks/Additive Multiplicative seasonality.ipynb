{
 "cells": [
  {
   "cell_type": "code",
   "execution_count": 1,
   "id": "d3b1d2eb",
   "metadata": {},
   "outputs": [],
   "source": [
    "from scipy.optimize import minimize\n",
    "import pandas as pd\n",
    "import numpy as np\n",
    "import matplotlib.pyplot as plt\n",
    "%matplotlib inline"
   ]
  },
  {
   "cell_type": "code",
   "execution_count": 2,
   "id": "e14add79",
   "metadata": {},
   "outputs": [],
   "source": [
    "passenger = pd.read_csv(\"data\\passengers.csv\", index_col=0)\n",
    "vals = passenger['num_passengers'].values"
   ]
  },
  {
   "cell_type": "code",
   "execution_count": 3,
   "id": "4cb09b90",
   "metadata": {},
   "outputs": [],
   "source": [
    "def Multiplicative_Additive_Seasonality(vals, h, m, alpha, beta, gamma, mod = 'Additive'):\n",
    "    forecast = [vals[11]]\n",
    "    level = vals[11]\n",
    "    trend = np.mean(vals[12:24]) - np.mean(vals[:12])\n",
    "    seasonality = (vals[:12] - np.mean(vals[:12])).tolist()\n",
    "\n",
    "    for t in range(12, len(vals) + h):\n",
    "        pred_level = level\n",
    "        pred_trend = trend\n",
    "\n",
    "        if t < len(vals):\n",
    "            value = vals[t]\n",
    "        else:\n",
    "            value = forecast[-1]\n",
    "            \n",
    "        if mod == 'Additive':\n",
    "        \n",
    "            season = gamma * (value - pred_level - pred_trend) + (1 - gamma) * seasonality[t - m]\n",
    "            seasonality.append(season)\n",
    "\n",
    "            level = alpha * (value - seasonality[t - m]) + (1 - alpha) * (pred_level + pred_trend)\n",
    "            trend = beta * (level - pred_level) + (1 - beta) * pred_trend\n",
    "            forecast.append(level + trend + seasonality[t - m + 1])\n",
    "            \n",
    "        elif mod == 'Multiplicative':\n",
    "            \n",
    "            season = gamma * value/(pred_level + pred_trend) + (1 - gamma) * seasonality[t - m]\n",
    "            seasonality.append(season)\n",
    "\n",
    "            level = alpha * value/seasonality[t - m] + (1 - alpha) * (pred_level + pred_trend)\n",
    "            trend = beta * (level - pred_level) + (1 - beta) * pred_trend\n",
    "            forecast.append((level + trend) * seasonality[t - m + 1])\n",
    "            \n",
    "    return forecast"
   ]
  },
  {
   "cell_type": "code",
   "execution_count": 4,
   "id": "4f9eaaba",
   "metadata": {},
   "outputs": [],
   "source": [
    "h=36\n",
    "m=12\n",
    "alpha=0.4\n",
    "beta=0.03\n",
    "gamma=0.75\n",
    "mod = 'Additive'\n",
    "\n",
    "forecast = Multiplicative_Additive_Seasonality(vals, h, m, alpha, beta, gamma, mod)"
   ]
  },
  {
   "cell_type": "code",
   "execution_count": 6,
   "id": "5d09f04b",
   "metadata": {},
   "outputs": [
    {
     "data": {
      "text/plain": [
       "[118,\n",
       " 134.784,\n",
       " 158.14899200000002,\n",
       " 160.962199296,\n",
       " 154.93857728204802,\n",
       " 168.96514114629224,\n",
       " 185.74149777108323,\n",
       " 191.01841377270483,\n",
       " 181.93234240840536,\n",
       " 166.39351148092481,\n",
       " 148.6694907866654,\n",
       " 159.01904448066978,\n",
       " 154.40054816330436,\n",
       " 160.92864379492542,\n",
       " 174.02861344835893,\n",
       " 175.80009040703874,\n",
       " 169.33699747982615,\n",
       " 201.55345834509356,\n",
       " 217.68834879370274,\n",
       " 215.41960334472088,\n",
       " 203.63356135963596,\n",
       " 180.41590310465517,\n",
       " 165.60320963949496,\n",
       " 191.7751742535271,\n",
       " 189.6450884394314,\n",
       " 189.1953519279609,\n",
       " 212.05051628158373,\n",
       " 189.6452167474437,\n",
       " 194.10184382287366,\n",
       " 198.64529318925,\n",
       " 233.60245253288838,\n",
       " 237.26082609924708,\n",
       " 229.97293325238942,\n",
       " 205.5618042200539,\n",
       " 189.8755538827306,\n",
       " 210.6056226831518,\n",
       " 216.09697182082994,\n",
       " 220.7424117028781,\n",
       " 228.38944152649304,\n",
       " 223.17454208723154,\n",
       " 232.94461235833367,\n",
       " 262.246897701478,\n",
       " 263.1358568940839,\n",
       " 273.4809988504486,\n",
       " 242.99022477449245,\n",
       " 228.1295866455409,\n",
       " 207.64915843988297,\n",
       " 224.02319791130924,\n",
       " 222.85295829590981,\n",
       " 223.0508050301329,\n",
       " 249.25438578895069,\n",
       " 236.60748452681875,\n",
       " 223.87243111215088,\n",
       " 245.39134711475572,\n",
       " 275.0245459229824,\n",
       " 292.88743030755364,\n",
       " 258.5033615352768,\n",
       " 236.81198698715002,\n",
       " 211.20977068341745,\n",
       " 238.10315919126333,\n",
       " 245.06977877747545,\n",
       " 239.06307442466982,\n",
       " 292.43747678008987,\n",
       " 278.64673289973797,\n",
       " 280.541017048065,\n",
       " 299.74903549428126,\n",
       " 333.8696914039042,\n",
       " 332.4406441212837,\n",
       " 303.8899926505631,\n",
       " 278.870508241874,\n",
       " 254.0398550834517,\n",
       " 276.51851685699955,\n",
       " 292.15839280186935,\n",
       " 281.7245718502289,\n",
       " 320.9729362460721,\n",
       " 327.7380037532113,\n",
       " 326.99090846228205,\n",
       " 366.2473998245571,\n",
       " 408.52268101429684,\n",
       " 384.8408504186043,\n",
       " 353.4469296255478,\n",
       " 315.74442508323375,\n",
       " 279.45384940484,\n",
       " 318.9776035355708,\n",
       " 321.15011522611593,\n",
       " 313.66524772517243,\n",
       " 349.77605707032177,\n",
       " 352.14342676368165,\n",
       " 359.66896980691047,\n",
       " 412.9882174436416,\n",
       " 453.10217021602756,\n",
       " 444.0304225385761,\n",
       " 399.72034427904754,\n",
       " 354.5823020929513,\n",
       " 320.09740265623157,\n",
       " 353.4640925361067,\n",
       " 358.8019596382712,\n",
       " 341.05751764497006,\n",
       " 386.74111742109744,\n",
       " 368.13816038767703,\n",
       " 367.87094057894797,\n",
       " 430.3668284101132,\n",
       " 469.83819311582084,\n",
       " 471.831335660943,\n",
       " 416.761328514048,\n",
       " 354.88381012963765,\n",
       " 318.5557498154569,\n",
       " 351.95635101549846,\n",
       " 356.51627489129305,\n",
       " 343.984227000733,\n",
       " 396.57711139916444,\n",
       " 395.2446108185505,\n",
       " 415.18858455781634,\n",
       " 489.2050460601115,\n",
       " 532.59508870079,\n",
       " 541.4790218803143,\n",
       " 445.7030791484411,\n",
       " 408.86833183356754,\n",
       " 360.9320263479895,\n",
       " 393.78666899113557,\n",
       " 423.3635619102705,\n",
       " 403.3925068262528,\n",
       " 460.85338833395986,\n",
       " 432.37040942997777,\n",
       " 466.70123085197577,\n",
       " 524.6012833861083,\n",
       " 604.0225399441899,\n",
       " 616.0856541551009,\n",
       " 509.3308473883103,\n",
       " 450.67935187085817,\n",
       " 409.9754338513138,\n",
       " 441.9237769874971,\n",
       " 449.5115571995064,\n",
       " 427.28898111630366,\n",
       " 467.48467722934004,\n",
       " 508.9810015025445,\n",
       " 514.3940292088108,\n",
       " 573.9681080321337,\n",
       " 654.7577242757301,\n",
       " 638.2105780350968,\n",
       " 541.8052250842637,\n",
       " 492.18974740770875,\n",
       " 424.2767181211002,\n",
       " 471.63489212182157,\n",
       " 490.63501586945245,\n",
       " 468.4124397862497,\n",
       " 508.60813589928614,\n",
       " 550.1044601724906,\n",
       " 555.5174878787569,\n",
       " 615.0915667020798,\n",
       " 695.8811829456762,\n",
       " 679.3340367050429,\n",
       " 582.9286837542098,\n",
       " 533.3132060776549,\n",
       " 465.4001767910463,\n",
       " 512.7583507917676,\n",
       " 531.7584745393985,\n",
       " 509.5358984561958,\n",
       " 549.7315945692322,\n",
       " 591.2279188424367,\n",
       " 596.640946548703,\n",
       " 656.2150253720259,\n",
       " 737.0046416156223,\n",
       " 720.457495374989,\n",
       " 624.0521424241559,\n",
       " 574.436664747601,\n",
       " 506.5236354609924,\n",
       " 553.8818094617137,\n",
       " 572.8819332093447]"
      ]
     },
     "execution_count": 6,
     "metadata": {},
     "output_type": "execute_result"
    }
   ],
   "source": [
    "forecast"
   ]
  },
  {
   "cell_type": "code",
   "execution_count": 5,
   "id": "19a3ade7",
   "metadata": {},
   "outputs": [
    {
     "data": {
      "text/plain": [
       "[<matplotlib.lines.Line2D at 0x19c55db0fd0>]"
      ]
     },
     "execution_count": 5,
     "metadata": {},
     "output_type": "execute_result"
    },
    {
     "data": {
      "image/png": "[encoded data removed]",
      "text/plain": [
       "<Figure size 432x288 with 1 Axes>"
      ]
     },
     "metadata": {
      "needs_background": "light"
     },
     "output_type": "display_data"
    }
   ],
   "source": [
    "plt.plot(vals[12:])\n",
    "plt.plot(forecast)"
   ]
  },
  {
   "cell_type": "code",
   "execution_count": 99,
   "id": "534b891d",
   "metadata": {},
   "outputs": [],
   "source": [
    "def mean_squar_error(vals, h, m, alpha, beta, gamma, mod = 'Additive'):\n",
    "    forecast = Multiplicative_Additive_Seasonality(vals, h, m, alpha, beta, gamma, mod)\n",
    "    return ((np.array(forecast[:-1]) - vals[12:])**2).mean()"
   ]
  },
  {
   "cell_type": "code",
   "execution_count": 112,
   "id": "4698823e",
   "metadata": {},
   "outputs": [],
   "source": [
    "h=0\n",
    "mod = 'Additive'\n",
    "\n",
    "mse = lambda x: mean_squar_error(vals, h, m, x[0], x[1], x[2], mode)\n",
    "bnds = ( (0,1) for i in range(3) )\n",
    "df = minimize(mse, (0,0,0), bounds = tuple(bnds))"
   ]
  },
  {
   "cell_type": "code",
   "execution_count": 113,
   "id": "e79e68d8",
   "metadata": {},
   "outputs": [],
   "source": [
    "params = ['alpha', 'beta', 'gamma']\n",
    "dict_params = dict(zip(param, df.x))"
   ]
  },
  {
   "cell_type": "code",
   "execution_count": 114,
   "id": "37113a62",
   "metadata": {},
   "outputs": [],
   "source": [
    "h=36\n",
    "mod = 'Additive'\n",
    "\n",
    "forecast = Multiplicative_Additive_Seasonality(vals, h, m, dict_params['alpha'], dict_params['beta'], dict_params['gamma'], mod)"
   ]
  },
  {
   "cell_type": "code",
   "execution_count": 115,
   "id": "fc6f55f2",
   "metadata": {},
   "outputs": [
    {
     "data": {
      "text/plain": [
       "[<matplotlib.lines.Line2D at 0x1e95c6e4790>]"
      ]
     },
     "execution_count": 115,
     "metadata": {},
     "output_type": "execute_result"
    },
    {
     "data": {
      "image/png": "[encoded data removed]",
      "text/plain": [
       "<Figure size 432x288 with 1 Axes>"
      ]
     },
     "metadata": {
      "needs_background": "light"
     },
     "output_type": "display_data"
    }
   ],
   "source": [
    "plt.plot(vals[12:])\n",
    "plt.plot(forecast)"
   ]
  },
  {
   "cell_type": "code",
   "execution_count": 116,
   "id": "2e4aec75",
   "metadata": {},
   "outputs": [],
   "source": [
    "h=0\n",
    "mod = 'Multiplicative'\n",
    "\n",
    "mse = lambda x: mean_squar_error(vals, h, m, x[0], x[1], x[2], mode)\n",
    "bnds = ( (0,1) for i in range(3) )\n",
    "df = minimize(mse, (0,0,0), bounds = tuple(bnds))"
   ]
  },
  {
   "cell_type": "code",
   "execution_count": 117,
   "id": "18994f8c",
   "metadata": {},
   "outputs": [],
   "source": [
    "params = ['alpha', 'beta', 'gamma']\n",
    "dict_params = dict(zip(param, df.x))"
   ]
  },
  {
   "cell_type": "code",
   "execution_count": 118,
   "id": "d5c928d3",
   "metadata": {},
   "outputs": [],
   "source": [
    "h=36\n",
    "mod = 'Multiplicative'\n",
    "\n",
    "forecast = Multiplicative_Additive_Seasonality(vals, h, m, dict_params['alpha'], dict_params['beta'], dict_params['gamma'], mod)"
   ]
  },
  {
   "cell_type": "code",
   "execution_count": 119,
   "id": "3d9d2e42",
   "metadata": {},
   "outputs": [
    {
     "data": {
      "text/plain": [
       "[<matplotlib.lines.Line2D at 0x1e95c729390>]"
      ]
     },
     "execution_count": 119,
     "metadata": {},
     "output_type": "execute_result"
    },
    {
     "data": {
      "image/png": "[encoded data removed]",
      "text/plain": [
       "<Figure size 432x288 with 1 Axes>"
      ]
     },
     "metadata": {
      "needs_background": "light"
     },
     "output_type": "display_data"
    }
   ],
   "source": [
    "plt.plot(vals[12:])\n",
    "plt.plot(forecast)"
   ]
  },
  {
   "cell_type": "code",
   "execution_count": null,
   "id": "6f2ad63c",
   "metadata": {},
   "outputs": [],
   "source": []
  }
 ],
 "metadata": {
  "kernelspec": {
   "display_name": "Python 3 (ipykernel)",
   "language": "python",
   "name": "python3"
  },
  "language_info": {
   "codemirror_mode": {
    "name": "ipython",
    "version": 3
   },
   "file_extension": ".py",
   "mimetype": "text/x-python",
   "name": "python",
   "nbconvert_exporter": "python",
   "pygments_lexer": "ipython3",
   "version": "3.10.2"
  }
 },
 "nbformat": 4,
 "nbformat_minor": 5
}
